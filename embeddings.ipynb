{
 "cells": [
  {
   "cell_type": "markdown",
   "metadata": {
    "collapsed": true
   },
   "source": [
    "# Word2Vec\n"
   ]
  },
  {
   "cell_type": "markdown",
   "metadata": {},
   "source": [
    "FastText provides two models for computing word representations: skipgram and cbow ('continuous-bag-of-words').\n",
    "The skipgram model learns to predict a target word thanks to a nearby word. On the other hand, the cbow model predicts the target word according to its context. \n",
    "The model has been trained on the Rx thorax corpus (3M words) with the skipgram model using the following parameters: \n",
    "- Vector size: 100 dimensions\n",
    "- Subword between 3 and 6 characters: The subwords are all the substrings contained in a word between the minimum size (nmin) and the maximal size (nmax). \n",
    "- Number of epoch 5\n",
    "- Learning rate: 0.05\n",
    "- Threads: 12"
   ]
  },
  {
   "cell_type": "code",
   "execution_count": 6,
   "metadata": {
    "collapsed": false
   },
   "outputs": [
    {
     "name": "stdout",
     "output_type": "stream",
     "text": [
      "(['epoc', '<ep', '<epo', '<epoc', '<epoc>', 'epo', 'epoc', 'epoc>', 'poc', 'poc>', 'oc>'], array([     26,  681952, 1838757, 1912258, 1775324, 1905263,  133644,\n",
      "        865630,  217019,  125063, 1127517]))\n",
      "[-0.0093281  -0.15532416  0.0948198  -0.08907584  0.25190157 -0.10687302\n",
      "  0.01649686 -0.20749712  0.11510517 -0.02903952 -0.0196301   0.28202081\n",
      "  0.00626374 -0.03796449  0.31332636 -0.11211477 -0.07280819  0.09385599\n",
      "  0.25875148 -0.03122052 -0.10758104  0.11866977 -0.14313541 -0.0205832\n",
      " -0.47141314 -0.14188825  0.28987271  0.26812938 -0.17702948  0.03432148\n",
      " -0.20997262 -0.03703849 -0.07540703 -0.0446909   0.13087593  0.23045629\n",
      "  0.18910374 -0.17747886  0.01849453  0.52423888  0.04227362  0.12532395\n",
      " -0.34457079 -0.04104725  0.16589129  0.13506122 -0.07036062 -0.04251134\n",
      "  0.14447868  0.12321639 -0.20340008  0.0634378  -0.01942538 -0.00913388\n",
      "  0.19385919 -0.09477488 -0.54019481  0.0198158   0.20428528  0.18138929\n",
      "  0.16437246  0.00601617  0.15107866  0.19145215 -0.08057079  0.04527451\n",
      " -0.24935655  0.17086981 -0.03140534  0.07077062 -0.10219134  0.02264336\n",
      " -0.09685895  0.37561369 -0.26003385 -0.27917361  0.34937087  0.3162201\n",
      "  0.22461919  0.00283657  0.08822056  0.0420085  -0.15973063 -0.30001453\n",
      "  0.14880155  0.27954057 -0.14249204 -0.0506996   0.02947633  0.05897431\n",
      "  0.15053049  0.09997381 -0.06415603  0.00413958 -0.46784019  0.09644999\n",
      " -0.11019294  0.70769167 -0.01978282 -0.12724192]\n"
     ]
    }
   ],
   "source": [
    "import fastText \n",
    "from fastText import load_model\n",
    "\n",
    "f = load_model('fasttext/text.bin')\n",
    "words, frequency = f.get_words(include_freq=True)\n",
    "subwords = f.get_subwords(\"epoc\")\n",
    "vector = f.get_word_vector(\"epoc\")\n",
    "print(subwords)\n",
    "print(vector)"
   ]
  },
  {
   "cell_type": "markdown",
   "metadata": {},
   "source": [
    "Nearest neighbors: A simple way to check the quality of a word vector is to look at its nearest neighbors. This give an intuition of the type of semantic information the vectors are able to capture. We see that misspelled word matches also to reasonable words."
   ]
  },
  {
   "cell_type": "raw",
   "metadata": {
    "collapsed": true
   },
   "source": [
    "./fasttext nn fastext/text.bin\n",
    "    Pre-computing word vectors... done.\n",
    "Query word? epoc\n",
    "radiologicos 0.858431\n",
    "signos 0.823974\n",
    "atrapamiento 0.763774\n",
    "marcados 0.758819\n",
    "ginecomastia 0.704623\n",
    "aereo 0.699707\n",
    "radilogicos 0.69087\n",
    "cardiologicos 0.658289\n",
    "atrapameinto 0.653904\n",
    "leves 0.631641\n",
    "\n",
    "Query word? derrame\n",
    "errame 0.872163\n",
    "pleural 0.83647\n",
    "derrames 0.787511\n",
    "derame 0.6965\n",
    "hemoneumotorax 0.674904\n",
    "emporamiento 0.651032\n",
    "componente 0.649664\n",
    "pelural 0.645976\n",
    "emperamiento 0.639643\n",
    "pasiva 0.638568"
   ]
  }
 ],
 "metadata": {
  "anaconda-cloud": {},
  "kernelspec": {
   "display_name": "Python [conda env:aind]",
   "language": "python",
   "name": "conda-env-aind-py"
  },
  "language_info": {
   "codemirror_mode": {
    "name": "ipython",
    "version": 3
   },
   "file_extension": ".py",
   "mimetype": "text/x-python",
   "name": "python",
   "nbconvert_exporter": "python",
   "pygments_lexer": "ipython3",
   "version": "3.6.0"
  }
 },
 "nbformat": 4,
 "nbformat_minor": 0
}
