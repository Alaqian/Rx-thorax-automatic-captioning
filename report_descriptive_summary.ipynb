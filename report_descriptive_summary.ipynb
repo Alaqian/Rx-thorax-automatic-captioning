{
 "cells": [
  {
   "cell_type": "code",
   "execution_count": 7,
   "metadata": {
    "collapsed": false
   },
   "outputs": [
    {
     "name": "stdout",
     "output_type": "stream",
     "text": [
      "Total sentences: 501840\n",
      "Sentence statistics and number of words by sentence\n",
      "count    501840.000000\n",
      "mean          7.160444\n",
      "std           7.407510\n",
      "min           1.000000\n",
      "25%           2.000000\n",
      "50%           5.000000\n",
      "75%           9.000000\n",
      "max         190.000000\n",
      "dtype: float64\n",
      "Total words: 3585387\n",
      "Total different words: 19045\n",
      "Stopwords:\n",
      "{'tuviesen', 'ante', 'estuvisteis', 'habíamos', 'fue', 'ellas', 'estáis', 'habrían', 'tenían', 'están', 'hubiésemos', 'tenida', 'cuando', 'el', 'estuvieras', 'entre', 'tuvierais', 'hasta', 'algo', 'uno', 'tuviésemos', 'estuviéramos', 'hay', 'otra', 'estás', 'durante', 'tuvieseis', 'él', 'tus', 'estaba', 'hubiese', 'más', 'ya', 'vuestras', 'estar', 'fueses', 'que', 'siente', 'estaban', 'nuestro', 'lo', 'estuviste', 'fuerais', 'en', 'tu', 'fuésemos', 'habidos', 'tengas', 'suyo', 'fueras', 'tuvieran', 'estemos', 'sentida', 'e', 'al', 'estaremos', 'tendrán', 'tendría', 'tuvieron', 'estaríais', 'tengáis', 'nuestras', 'tuyos', 'estuviésemos', 'mí', 'otro', 'este', 'nosotras', 'hayáis', 'tenido', 'ese', 'tenidos', 'hubieses', 'todo', 'fueron', 'como', 'donde', 'tanto', 'te', 'tenías', 'tienen', 'tengan', 'sentidos', 'esos', 'estad', 'esto', 'tuvimos', 'mía', 'tuve', 'tuyas', 'nuestra', 'habéis', 'sean', 'del', 'ti', 'tendríamos', 'tú', 'sentido', 'teniendo', 'haya', 'se', 'habiendo', 'tengamos', 'estamos', 'poco', 'vosostras', 'suya', 'estando', 'teníamos', 'hubieran', 'tuvieras', 'antes', 'míos', 'hayamos', 'vuestros', 'seamos', 'quien', 'tuyo', 'habrás', 'estaré', 'sentid', 'sí', 'tendrás', 'yo', 'tenéis', 'estéis', 'contra', 'era', 'suyas', 'fuera', 'estuviesen', 'estén', 'son', 'hubo', 'tuviera', 'ellos', 'les', 'habrías', 'sentidas', 'os', 'nada', 'tuya', 'vosostros', 'sus', 'desde', 'serías', 'tienes', 'suyos', 'has', 'fuesen', 'estada', 'tuviste', 'hubieron', 'hubieseis', 'nosotros', 'hubiste', 'hubierais', 'tuviéramos', 'sois', 'pero', 'estadas', 'habríamos', 'sobre', 'esta', 'estarían', 'ha', 'cual', 'estaría', 'a', 'tendrían', 'tuvieses', 'las', 'está', 'habrán', 'tengo', 'somos', 'habíais', 'estados', 'porque', 'fueseis', 'estado', 'tuviese', 'habías', 'de', 'hubimos', 'serían', 'eres', 'estabais', 'estuviese', 'algunos', 'habían', 'habido', 'hubiéramos', 'o', 'también', 'fuéramos', 'estuviera', 'una', 'habida', 'estas', 'hayan', 'serán', 'esa', 'su', 'tendríais', 'unos', 'mías', 'nos', 'nuestros', 'quienes', 'hubiera', 'hubiesen', 'me', 'vuestro', 'tiene', 'estarías', 'estuvo', 'le', 'estará', 'serás', 'estos', 'tendremos', 'hubieras', 'seáis', 'tendré', 'tenga', 'había', 'para', 'éramos', 'un', 'y', 'tened', 'habremos', 'he', 'hubisteis', 'estabas', 'muy', 'eras', 'fuese', 'seremos', 'esté', 'habrá', 'habré', 'hemos', 'estés', 'sintiendo', 'por', 'habidas', 'fuisteis', 'habréis', 'los', 'eso', 'estábamos', 'estarás', 'seréis', 'tendréis', 'ella', 'fuiste', 'mis', 'algunas', 'fuimos', 'fueran', 'mío', 'estuvieseis', 'eran', 'habría', 'estuvierais', 'sería', 'mucho', 'tendrías', 'estoy', 'seríamos', 'es', 'teníais', 'sea', 'estuvieses', 'estuve', 'la', 'estuvieron', 'soy', 'vuestra', 'seríais', 'todos', 'tuvisteis', 'hube', 'estuvimos', 'mi', 'erais', 'otras', 'han', 'tuvo', 'otros', 'estarán', 'fui', 'hayas', 'estuvieran', 'habríais', 'seré', 'muchos', 'tenía', 'tendrá', 'qué', 'será', 'tenemos', 'esas', 'seas', 'estaréis', 'tenidas', 'estaríamos'}\n",
      "Total words removing stopwords: 2826641\n",
      "Total different words removing stopwords: 18923\n",
      "Total words removing stopwords and stemming: 2826641\n",
      "Total different words removing stopwords and stemming: 14714\n",
      "Statistics of frequency of different words\n",
      "count     14714.000000\n",
      "mean        192.105546\n",
      "std        2722.238145\n",
      "min           1.000000\n",
      "25%           1.000000\n",
      "50%           2.000000\n",
      "75%           7.000000\n",
      "max      252414.000000\n",
      "dtype: float64\n"
     ]
    }
   ],
   "source": [
    "import pandas as pd\n",
    "\n",
    "\n",
    "# Extract text column from a dataframe\n",
    "df = pd.read_csv('report_sentences_cleaned.csv', encoding=\"ISO-8859-1\")\n",
    "\n",
    "# Concatenate all words in text\n",
    "text = pd.Series(df['v_clean']).str.cat(sep=' ')\n",
    "\n",
    "\n",
    "sentences_list = [x.strip() for x in text.split('.')]\n",
    "print('Total sentences: ' + str(len(sentences_list)))\n",
    "from collections import Counter, OrderedDict\n",
    "c = Counter( [len(s.split(' ')) for s in sentences_list ])\n",
    "s = pd.Series([len(s.split(' ')) for s in sentences_list ])\n",
    "print(\"Sentence statistics and number of words by sentence\")\n",
    "print(s.describe())\n",
    "\n",
    "\n",
    "word_list = text.split()\n",
    "print('Total words: ' + str(len(word_list)))\n",
    "print('Total different words: ' + str(len(set(word_list))))\n",
    "\n",
    "# Remove stopwords\n",
    "from nltk.corpus import stopwords\n",
    "stopwords = set(stopwords.words(\"spanish\")) - set(['sin', 'no', 'ni', 'con'])\n",
    "print(\"Stopwords:\")\n",
    "print(stopwords)\n",
    "word_list = [w.strip() for w in word_list if w.strip() not in stopwords]\n",
    "print('Total words removing stopwords: ' + str(len(word_list)))\n",
    "print('Total different words removing stopwords: ' + str(len(set(word_list))))\n",
    "\n",
    "# Stemmize\n",
    "from nltk.stem.snowball import SpanishStemmer\n",
    "stemmer = SpanishStemmer()\n",
    "word_list = [stemmer.stem(w) for w in word_list ]\n",
    "print('Total words removing stopwords and stemming: ' + str(len(word_list)))\n",
    "print('Total different words removing stopwords and stemming: ' + str(len(set(word_list))))\n",
    "\n",
    "\n",
    "\n",
    "c = Counter( word_list )\n",
    "s = pd.Series(c)\n",
    "print('Statistics of frequency of different words')\n",
    "print(s.describe())\n",
    "\n",
    "\n",
    "\n"
   ]
  },
  {
   "cell_type": "code",
   "execution_count": null,
   "metadata": {
    "collapsed": true
   },
   "outputs": [],
   "source": []
  }
 ],
 "metadata": {
  "anaconda-cloud": {},
  "kernelspec": {
   "display_name": "Python [conda env:aind]",
   "language": "python",
   "name": "conda-env-aind-py"
  },
  "language_info": {
   "codemirror_mode": {
    "name": "ipython",
    "version": 3
   },
   "file_extension": ".py",
   "mimetype": "text/x-python",
   "name": "python",
   "nbconvert_exporter": "python",
   "pygments_lexer": "ipython3",
   "version": "3.6.0"
  }
 },
 "nbformat": 4,
 "nbformat_minor": 0
}
