{
 "cells": [
  {
   "cell_type": "code",
   "execution_count": 1,
   "metadata": {},
   "outputs": [
    {
     "name": "stdout",
     "output_type": "stream",
     "text": [
      "Total sentences: 501960\n",
      "Sentence statistics and number of words by sentence\n",
      "count    501960.000000\n",
      "mean          7.197787\n",
      "std           7.406441\n",
      "min           1.000000\n",
      "25%           2.000000\n",
      "50%           5.000000\n",
      "75%           9.000000\n",
      "max         190.000000\n",
      "dtype: float64\n",
      "Total words: 3850986\n",
      "Vocabulary size: 14280\n",
      "Stopwords:\n",
      "310\n",
      "Total words removing stopwords: 2585940\n",
      "Vocabulary size removing stopwords: 14157\n",
      "Total words removing stopwords and stemming: 2585940\n",
      "Vocabulary size removing stopwords and stemming: 9729\n",
      "Statistics of frequency of different words\n",
      "count     9729.000000\n",
      "mean       265.797101\n",
      "std       2307.564879\n",
      "min          1.000000\n",
      "25%          1.000000\n",
      "50%          2.000000\n",
      "75%          9.000000\n",
      "max      95890.000000\n",
      "dtype: float64\n"
     ]
    }
   ],
   "source": [
    "import pandas as pd\n",
    "\n",
    "\n",
    "# Extract text column from a dataframe\n",
    "df = pd.read_csv('report_sentences_cleaned.csv', encoding=\"ISO-8859-1\")\n",
    "\n",
    "# Concatenate all words in text\n",
    "text = pd.Series(df['v_clean']).str.cat(sep=' ')\n",
    "text = text.replace('.',' . ')\n",
    "\n",
    "\n",
    "sentences_list = [x.strip() for x in text.split(' . ')]\n",
    "print('Total sentences: ' + str(len(sentences_list)))\n",
    "from collections import Counter, OrderedDict\n",
    "c = Counter( [len(s.split(' ')) for s in sentences_list ])\n",
    "s = pd.Series([len(s.split(' ')) for s in sentences_list ])\n",
    "print(\"Sentence statistics and number of words by sentence\")\n",
    "print(s.describe())\n",
    "\n",
    "\n",
    "word_list = text.split()\n",
    "print('Total words: ' + str(len(word_list)))\n",
    "print('Vocabulary size: ' + str(len(set(word_list))))\n",
    "\n",
    "# Remove stopwords\n",
    "from nltk.corpus import stopwords\n",
    "stopwords = set(stopwords.words(\"spanish\")) - set(['sin', 'no', 'ni', 'con'])\n",
    "stopwords.add('.')\n",
    "print(\"Stopwords:\")\n",
    "print(len(stopwords))\n",
    "word_list = [w.strip() for w in word_list if w.strip() not in stopwords]\n",
    "print('Total words removing stopwords: ' + str(len(word_list)))\n",
    "print('Vocabulary size removing stopwords: ' + str(len(set(word_list))))\n",
    "\n",
    "# Stemmize\n",
    "from nltk.stem.snowball import SpanishStemmer\n",
    "stemmer = SpanishStemmer()\n",
    "word_list = [stemmer.stem(w) for w in word_list ]\n",
    "print('Total words removing stopwords and stemming: ' + str(len(word_list)))\n",
    "print('Vocabulary size removing stopwords and stemming: ' + str(len(set(word_list))))\n",
    "\n",
    "\n",
    "\n",
    "c = Counter( word_list )\n",
    "s = pd.Series(c)\n",
    "print('Statistics of frequency of different words')\n",
    "print(s.describe())\n"
   ]
  },
  {
   "cell_type": "code",
   "execution_count": 2,
   "metadata": {},
   "outputs": [
    {
     "name": "stdout",
     "output_type": "stream",
     "text": [
      "                   0      1\n",
      "0                con  95890\n",
      "1                sin  90484\n",
      "2             derech  60425\n",
      "3                 no  47274\n",
      "4            hallazg  45997\n",
      "5              cambi  45416\n",
      "6           radiolog  44729\n",
      "7             estudi  42737\n",
      "8           izquierd  42232\n",
      "9           signific  37812\n",
      "10             alter  34731\n",
      "11              sign  34305\n",
      "12             previ  32082\n",
      "13           infiltr  28627\n",
      "14            pulmon  28069\n",
      "15          pulmonar  23938\n",
      "16           pleural  22936\n",
      "17              epoc  21425\n",
      "18          relacion  20122\n",
      "19         bilateral  19961\n",
      "20            aument  19600\n",
      "21           respect  19499\n",
      "22            normal  18056\n",
      "23            derram  16807\n",
      "24           probabl  16531\n",
      "25            apreci  16220\n",
      "26            extrem  15451\n",
      "27              fech  15092\n",
      "28          superior  14745\n",
      "29        elongacion  13019\n",
      "...              ...    ...\n",
      "2470      consecuent      8\n",
      "2471         acalasi      8\n",
      "2472           imagn      8\n",
      "2473            veng      8\n",
      "2474          levant      8\n",
      "2475             loe      8\n",
      "2476           razon      8\n",
      "2477           deber      8\n",
      "2478          adquir      8\n",
      "2479         apareci      8\n",
      "2480      extratorac      8\n",
      "2481         poplite      8\n",
      "2482              44      8\n",
      "2483            paaf      8\n",
      "2484  postmastectomi      8\n",
      "2485     condesacion      8\n",
      "2486      dificultad      8\n",
      "2487            sill      8\n",
      "2488          invers      8\n",
      "2489       celulitis      8\n",
      "2490          marcad      8\n",
      "2491            raiz      8\n",
      "2492      trasversal      8\n",
      "2493        trasvers      8\n",
      "2494       diferenci      8\n",
      "2495        neurogen      8\n",
      "2496       diastasis      8\n",
      "2497      evanescent      8\n",
      "2498           arbol      8\n",
      "2499         amigdal      8\n",
      "\n",
      "[2500 rows x 2 columns]\n"
     ]
    }
   ],
   "source": [
    "x = c.most_common(2500)\n",
    "x = pd.DataFrame([list(a) for a in x])\n",
    "print(x[0:2500][:])\n"
   ]
  },
  {
   "cell_type": "code",
   "execution_count": 4,
   "metadata": {},
   "outputs": [
    {
     "data": {
      "image/png": "[encoded data removed]",
      "text/plain": [
       "<matplotlib.figure.Figure at 0x7f75a68008d0>"
      ]
     },
     "metadata": {},
     "output_type": "display_data"
    }
   ],
   "source": [
    "%matplotlib inline\n",
    "\n",
    "import matplotlib\n",
    "import matplotlib.pyplot as plt\n",
    "#Observation: most words appearing less than twice corresponds to missespelling so we can remove them from the final vocabulary\n",
    "#Reduce vocabulary to words repeating more than twice (50 percentile)\n",
    "final_vocabulary = x[0:int(len(x)*0.50)]\n",
    "#Save remaining words\n",
    "removed_vocabulary = x[int(len(x)*0.50) +1:-1]\n",
    "plt.hist(final_vocabulary[18:int(len(x)*0.50)][1])\n",
    "plt.title(\"Word Frequency Distribution\")\n",
    "plt.xlabel(\"Word Frequency Distribution\")\n",
    "plt.show()"
   ]
  },
  {
   "cell_type": "markdown",
   "metadata": {},
   "source": [
    "# Word Cloud Plot"
   ]
  },
  {
   "cell_type": "code",
   "execution_count": 5,
   "metadata": {},
   "outputs": [
    {
     "ename": "ModuleNotFoundError",
     "evalue": "No module named 'wordcloud'",
     "output_type": "error",
     "traceback": [
      "\u001b[0;31m---------------------------------------------------------------------------\u001b[0m",
      "\u001b[0;31mModuleNotFoundError\u001b[0m                       Traceback (most recent call last)",
      "\u001b[0;32m<ipython-input-5-f81088e4a4ac>\u001b[0m in \u001b[0;36m<module>\u001b[0;34m()\u001b[0m\n\u001b[1;32m      2\u001b[0m \u001b[0mget_ipython\u001b[0m\u001b[0;34m(\u001b[0m\u001b[0;34m)\u001b[0m\u001b[0;34m.\u001b[0m\u001b[0mrun_line_magic\u001b[0m\u001b[0;34m(\u001b[0m\u001b[0;34m'matplotlib'\u001b[0m\u001b[0;34m,\u001b[0m \u001b[0;34m'inline'\u001b[0m\u001b[0;34m)\u001b[0m\u001b[0;34m\u001b[0m\u001b[0m\n\u001b[1;32m      3\u001b[0m \u001b[0;34m\u001b[0m\u001b[0m\n\u001b[0;32m----> 4\u001b[0;31m \u001b[0;32mfrom\u001b[0m \u001b[0mwordcloud\u001b[0m \u001b[0;32mimport\u001b[0m \u001b[0mWordCloud\u001b[0m\u001b[0;34m\u001b[0m\u001b[0m\n\u001b[0m\u001b[1;32m      5\u001b[0m \u001b[0;34m\u001b[0m\u001b[0m\n\u001b[1;32m      6\u001b[0m \u001b[0;34m\u001b[0m\u001b[0m\n",
      "\u001b[0;31mModuleNotFoundError\u001b[0m: No module named 'wordcloud'"
     ]
    }
   ],
   "source": [
    "import matplotlib.pyplot as plt\n",
    "%matplotlib inline\n",
    "\n",
    "from wordcloud import WordCloud\n",
    "\n",
    "\n",
    "# Initialize wordcloud object\n",
    "wc = WordCloud(background_color='white', max_words=500,\n",
    "        # update stopwords\n",
    "        stopwords = stopwords)\n",
    "\n",
    "# Generate and plot wordcloud\n",
    "plt.imshow(wc.generate(text))\n",
    "plt.axis('off')\n",
    "plt.show()"
   ]
  },
  {
   "cell_type": "code",
   "execution_count": null,
   "metadata": {
    "collapsed": true
   },
   "outputs": [],
   "source": []
  }
 ],
 "metadata": {
  "anaconda-cloud": {},
  "kernelspec": {
   "display_name": "Python 2",
   "language": "python",
   "name": "python2"
  },
  "language_info": {
   "codemirror_mode": {
    "name": "ipython",
    "version": 3
   },
   "file_extension": ".py",
   "mimetype": "text/x-python",
   "name": "python",
   "nbconvert_exporter": "python",
   "pygments_lexer": "ipython3",
   "version": "3.6.3"
  }
 },
 "nbformat": 4,
 "nbformat_minor": 1
}
